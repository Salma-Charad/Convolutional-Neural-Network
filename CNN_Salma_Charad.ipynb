{
  "nbformat": 4,
  "nbformat_minor": 0,
  "metadata": {
    "colab": {
      "name": "CNN- Salma Charad.ipynb",
      "provenance": [],
      "collapsed_sections": []
    },
    "kernelspec": {
      "name": "python3",
      "display_name": "Python 3"
    },
    "accelerator": "GPU"
  },
  "cells": [
    {
      "cell_type": "code",
      "metadata": {
        "id": "1uT4y16JXQui",
        "colab": {
          "base_uri": "https://localhost:8080/",
          "height": 0
        },
        "outputId": "9f06ce91-aab1-4f91-c53e-7859a13aeca1"
      },
      "source": [
        "import torch\n",
        "import torch.nn as nn\n",
        "import torchvision\n",
        "import torchvision.transforms as transforms\n",
        "import torchvision.datasets as dataset\n",
        "from torchvision.datasets import FashionMNIST\n",
        "import matplotlib.pyplot as plt\n",
        "import numpy as np\n",
        "\n",
        "\n",
        "\n",
        "# Device configuration\n",
        "device = torch.device('cuda' if torch.cuda.is_available() else 'cpu')\n",
        "device"
      ],
      "execution_count": 10,
      "outputs": [
        {
          "output_type": "execute_result",
          "data": {
            "text/plain": [
              "device(type='cuda')"
            ]
          },
          "metadata": {
            "tags": []
          },
          "execution_count": 10
        }
      ]
    },
    {
      "cell_type": "markdown",
      "metadata": {
        "id": "AEiHrX5QK8rv"
      },
      "source": [
        "# CRFAR10 Dataset\n",
        "\n",
        "![alt text](https://drive.google.com/uc?id=1WZK7z4pa3qdXmg7fs9AnqlflCTGzblz1)"
      ]
    },
    {
      "cell_type": "code",
      "metadata": {
        "id": "3Ns5eTLdXYhj",
        "colab": {
          "base_uri": "https://localhost:8080/",
          "height": 353
        },
        "outputId": "196d7290-7c45-4cc8-fdad-8ff64ecb7457"
      },
      "source": [
        "batch_size = 128\n",
        "\n",
        "transform = transforms.Compose([\n",
        "    transforms.ToTensor()\n",
        "])\n",
        "\n",
        "\n",
        "# CIFAR-10 dataset\n",
        "train_dataset = dataset.CIFAR10(root='../../data/', train=True, transform=transform, download=True)\n",
        "test_dataset = dataset.CIFAR10(root='../../data/', train=False, transform=transform, download=True)\n",
        "\n",
        "\n",
        "print('Train dataset size = ',len(train_dataset))\n",
        "print('Test dataset size = ',len(test_dataset))\n",
        "img, label = train_dataset[1]\n",
        "print('Image size = ',img.shape, '(', label, ')')\n",
        "plt.imshow(img[0,:,:], cmap='gray') \n",
        "\n",
        "\n",
        "\n",
        "# Data loader\n",
        "train_loader = torch.utils.data.DataLoader(dataset=train_dataset,\n",
        "                                           batch_size=batch_size, \n",
        "                                           shuffle=True)\n",
        "\n",
        "test_loader = torch.utils.data.DataLoader(dataset=test_dataset,\n",
        "                                          batch_size=batch_size, \n",
        "                                          shuffle=False)\n",
        "\n",
        "\n",
        "del train_dataset\n",
        "del test_dataset"
      ],
      "execution_count": 11,
      "outputs": [
        {
          "output_type": "stream",
          "text": [
            "Files already downloaded and verified\n",
            "Files already downloaded and verified\n",
            "Train dataset size =  50000\n",
            "Test dataset size =  10000\n",
            "Image size =  torch.Size([3, 32, 32]) ( 9 )\n"
          ],
          "name": "stdout"
        },
        {
          "output_type": "display_data",
          "data": {
            "image/png": "[encoded data removed]",
            "text/plain": [
              "<Figure size 432x288 with 1 Axes>"
            ]
          },
          "metadata": {
            "tags": [],
            "needs_background": "light"
          }
        }
      ]
    },
    {
      "cell_type": "markdown",
      "metadata": {
        "id": "055Vbt1VyfEC"
      },
      "source": [
        "# Neural Network Model\n",
        "\n",
        "Layer       | Operations                            | Input Size    | Output Size\n",
        "------------| --------------------------------------|---------------|---------------\n",
        "Layer 1     | conv3x3 + BatchNorm + Relu            | 3 x 32 x 32   | 128 x 32 x 32\n",
        "Layer 2     | conv3x3 + BatchNorm + Relu + maxpool  | 128 x 32 x 32 | 256 x 16 x 16\n",
        "Layer 3     | conv3x3 + BatchNorm + Relu            | 256 x 16 x 16 | 128 x 16 x 16\n",
        "Layer 4     | conv3x3 + BatchNorm + Relu + maxpool  | 128 x 16 x 16 |  64 x  8 x 8\n",
        "Layer 5     | Fully connected                       |  1 x  4096    |  1 x  512\n",
        "Layer 6     | Fully connected                       |  1 x  512     |  1 x  10\n"
      ]
    },
    {
      "cell_type": "code",
      "metadata": {
        "id": "CF0OBOYdXdWi"
      },
      "source": [
        "class Model(nn.Module):\n",
        "    def __init__(self, num_classes):\n",
        "        super(Model, self).__init__()\n",
        "        \n",
        "        \n",
        "        \n",
        "        self.conv1 = nn.Conv2d(3, 128, kernel_size= 5, padding= 2, stride= 1)\n",
        "        self.conv2 = nn.Conv2d(128, 256, kernel_size= 5, padding= 2, stride= 1)\n",
        "        self.conv3 = nn.Conv2d(256, 128, kernel_size= 5, padding= 2, stride= 1)\n",
        "        self.conv4 = nn.Conv2d(128, 64, kernel_size= 5, padding= 2, stride= 1)\n",
        "        self.n= np.int(3*32*32 * 64/3 * 1/4 * 1/4) \n",
        "      \n",
        "        self.linear1  = nn.Linear(self.n , hidden_size)\n",
        "        self.linear2  = nn.Linear (hidden_size, num_classes)\n",
        "        \n",
        "        self.bn1 = nn.BatchNorm2d(128)\n",
        "        self.bn2 = nn.BatchNorm2d(256) \n",
        "        self.bn3 = nn.BatchNorm2d(64) \n",
        "        self.bn4 = nn.BatchNorm2d(128)\n",
        "\n",
        "        self.relu=nn.ReLU()\n",
        "        self.max_pool = nn.MaxPool2d(2, stride=2)   \n",
        "        \n",
        "        \n",
        "        self.init()\n",
        "      \n",
        "\n",
        "    def init(self):\n",
        "        nn.init.xavier_uniform_(self.conv1.weight)\n",
        "        nn.init.xavier_uniform_(self.conv2.weight)\n",
        "        nn.init.xavier_uniform_(self.conv3.weight)\n",
        "        nn.init.xavier_uniform_(self.conv4.weight)\n",
        "        nn.init.xavier_uniform_(self.linear1.weight)\n",
        "        nn.init.xavier_uniform_(self.linear2.weight)\n",
        "        \n",
        "        \n",
        "    def forward(self, x):\n",
        "        \n",
        "        out = self.relu(self.bn1(self.conv1(x)))\n",
        "        out = self.max_pool(self.relu(self.bn2(self.conv2(out))))\n",
        "        \n",
        "        out = self.relu(self.bn4(self.conv3(out)))\n",
        "        \n",
        "        out = self.max_pool(self.relu(self.bn3(self.conv4(out))))\n",
        "        \n",
        "        \n",
        "        out = out.view(out.size(0), -1)\n",
        "        \n",
        "        out = nn.functional.dropout(out, 0.5)\n",
        "        \n",
        "        out = self.linear1(out)\n",
        "        \n",
        "        out = self.linear2(out)\n",
        "        \n",
        "        return out\n",
        "        \n",
        "        "
      ],
      "execution_count": 12,
      "outputs": []
    },
    {
      "cell_type": "code",
      "metadata": {
        "id": "GOHOL6mCXqH6"
      },
      "source": [
        "num_classes = 10\n",
        "learning_rate = 0.001\n",
        "hidden_size = 512\n",
        "\n",
        "\n",
        "model1 = Model(num_classes).to(device)\n",
        "model2 = Model(num_classes).to(device)\n",
        "\n",
        "# Loss and optimizer\n",
        "criterion = nn.CrossEntropyLoss()\n",
        "optimizer1 = torch.optim.Adam(model1.parameters(), lr=learning_rate)\n",
        "optimizer2 = torch.optim.SGD(model2.parameters(), lr=learning_rate, momentum=0.8, weight_decay=5e-4)\n"
      ],
      "execution_count": 13,
      "outputs": []
    },
    {
      "cell_type": "code",
      "metadata": {
        "id": "Zd3rXbrxXvGz"
      },
      "source": [
        "# Train the model\n",
        "def Train(model, optimizer, num_epochs):\n",
        "    total_step = len(train_loader)\n",
        "    loss_val = []\n",
        "    count = []\n",
        "    \n",
        "    model.train()\n",
        "    for epoch in range(num_epochs):\n",
        "        for i, (images, labels) in enumerate(train_loader):\n",
        "            images = images.to(device)                        \n",
        "            labels = labels.to(device)                        \n",
        "        \n",
        "            optimizer.zero_grad()                             \n",
        "            outputs = model(images)                           \n",
        "            loss = criterion(outputs, labels)                \n",
        "            loss.backward()                                  \n",
        "            optimizer.step()\n",
        "            \n",
        "            \n",
        "        \n",
        "            if (i+1) % 100 == 0:\n",
        "                count.append(i+1 + epoch*total_step)\n",
        "                loss_val.append(loss.item())\n",
        "                print('Epoch [%d/%d], Step [%d/%d], Loss: %.4f'%(epoch+1, num_epochs, i+1, total_step, loss.item()))\n",
        "            \n",
        "    return count, loss_val"
      ],
      "execution_count": 14,
      "outputs": []
    },
    {
      "cell_type": "code",
      "metadata": {
        "id": "AumAW3gDXxov"
      },
      "source": [
        "# Test the model\n",
        "\n",
        "\n",
        "def Test(model):\n",
        "  \n",
        "    model.eval()\n",
        "    \n",
        "    correct = 0\n",
        "    total = 0\n",
        "\n",
        "    actual_labels = []\n",
        "    predicted_labels = []\n",
        "    \n",
        "    for images, labels in test_loader:\n",
        "    \n",
        "        images = images.to(device)                \n",
        "        labels = labels.to(device)                 \n",
        "    \n",
        "        outputs = model(images)\n",
        "        _, predicted = torch.max(outputs.data, 1)  \n",
        "        total += labels.size(0)                    \n",
        "        correct += (predicted == labels).sum()     \n",
        "    \n",
        "        labelsCPU = labels.data.cpu().numpy()\n",
        "        predictedCPU = predicted.data.cpu().numpy()\n",
        "        predicted_labels.append(predictedCPU)\n",
        "        actual_labels.append(labelsCPU) \n",
        "    \n",
        "    \n",
        "    \n",
        "    print('Accuracy of the model = %f'%(100 * correct / total))    \n",
        "    "
      ],
      "execution_count": 15,
      "outputs": []
    },
    {
      "cell_type": "code",
      "metadata": {
        "id": "O-bJ6JFcd_SQ",
        "colab": {
          "base_uri": "https://localhost:8080/",
          "height": 0
        },
        "outputId": "021e432b-5e44-4549-c06c-281ac2c64401"
      },
      "source": [
        "num_epochs = 20\n",
        "count, loss1 = Train(model1, optimizer1, num_epochs)\n",
        "\n",
        "count, loss2 = Train(model2, optimizer2, num_epochs)"
      ],
      "execution_count": 8,
      "outputs": [
        {
          "output_type": "stream",
          "text": [
            "Epoch [1/20], Step [100/391], Loss: 2.4159\n",
            "Epoch [1/20], Step [200/391], Loss: 1.8066\n",
            "Epoch [1/20], Step [300/391], Loss: 1.6718\n",
            "Epoch [2/20], Step [100/391], Loss: 1.4684\n",
            "Epoch [2/20], Step [200/391], Loss: 1.3062\n",
            "Epoch [2/20], Step [300/391], Loss: 1.4081\n",
            "Epoch [3/20], Step [100/391], Loss: 0.9614\n",
            "Epoch [3/20], Step [200/391], Loss: 0.9544\n",
            "Epoch [3/20], Step [300/391], Loss: 0.9531\n",
            "Epoch [4/20], Step [100/391], Loss: 0.7187\n",
            "Epoch [4/20], Step [200/391], Loss: 0.7504\n",
            "Epoch [4/20], Step [300/391], Loss: 1.0020\n",
            "Epoch [5/20], Step [100/391], Loss: 0.9485\n",
            "Epoch [5/20], Step [200/391], Loss: 0.6074\n",
            "Epoch [5/20], Step [300/391], Loss: 0.7768\n",
            "Epoch [6/20], Step [100/391], Loss: 0.6907\n",
            "Epoch [6/20], Step [200/391], Loss: 0.6599\n",
            "Epoch [6/20], Step [300/391], Loss: 0.7374\n",
            "Epoch [7/20], Step [100/391], Loss: 0.4635\n",
            "Epoch [7/20], Step [200/391], Loss: 0.6526\n",
            "Epoch [7/20], Step [300/391], Loss: 0.8269\n",
            "Epoch [8/20], Step [100/391], Loss: 0.6536\n",
            "Epoch [8/20], Step [200/391], Loss: 0.6374\n",
            "Epoch [8/20], Step [300/391], Loss: 0.5142\n",
            "Epoch [9/20], Step [100/391], Loss: 0.5300\n",
            "Epoch [9/20], Step [200/391], Loss: 0.3727\n",
            "Epoch [9/20], Step [300/391], Loss: 0.6070\n",
            "Epoch [10/20], Step [100/391], Loss: 0.5671\n",
            "Epoch [10/20], Step [200/391], Loss: 0.3705\n",
            "Epoch [10/20], Step [300/391], Loss: 0.4498\n",
            "Epoch [11/20], Step [100/391], Loss: 0.3969\n",
            "Epoch [11/20], Step [200/391], Loss: 0.3503\n",
            "Epoch [11/20], Step [300/391], Loss: 0.5014\n",
            "Epoch [12/20], Step [100/391], Loss: 0.2350\n",
            "Epoch [12/20], Step [200/391], Loss: 0.3179\n",
            "Epoch [12/20], Step [300/391], Loss: 0.4381\n",
            "Epoch [13/20], Step [100/391], Loss: 0.3513\n",
            "Epoch [13/20], Step [200/391], Loss: 0.4049\n",
            "Epoch [13/20], Step [300/391], Loss: 0.3737\n",
            "Epoch [14/20], Step [100/391], Loss: 0.2825\n",
            "Epoch [14/20], Step [200/391], Loss: 0.2605\n",
            "Epoch [14/20], Step [300/391], Loss: 0.2758\n",
            "Epoch [15/20], Step [100/391], Loss: 0.2835\n",
            "Epoch [15/20], Step [200/391], Loss: 0.3165\n",
            "Epoch [15/20], Step [300/391], Loss: 0.2557\n",
            "Epoch [16/20], Step [100/391], Loss: 0.3426\n",
            "Epoch [16/20], Step [200/391], Loss: 0.2442\n",
            "Epoch [16/20], Step [300/391], Loss: 0.3120\n",
            "Epoch [17/20], Step [100/391], Loss: 0.2066\n",
            "Epoch [17/20], Step [200/391], Loss: 0.2676\n",
            "Epoch [17/20], Step [300/391], Loss: 0.2802\n",
            "Epoch [18/20], Step [100/391], Loss: 0.1680\n",
            "Epoch [18/20], Step [200/391], Loss: 0.2666\n",
            "Epoch [18/20], Step [300/391], Loss: 0.2019\n",
            "Epoch [19/20], Step [100/391], Loss: 0.1787\n",
            "Epoch [19/20], Step [200/391], Loss: 0.1812\n",
            "Epoch [19/20], Step [300/391], Loss: 0.2038\n",
            "Epoch [20/20], Step [100/391], Loss: 0.1408\n",
            "Epoch [20/20], Step [200/391], Loss: 0.3834\n",
            "Epoch [20/20], Step [300/391], Loss: 0.1825\n",
            "Epoch [1/20], Step [100/391], Loss: 2.1603\n",
            "Epoch [1/20], Step [200/391], Loss: 1.7652\n",
            "Epoch [1/20], Step [300/391], Loss: 1.6426\n",
            "Epoch [2/20], Step [100/391], Loss: 1.4393\n",
            "Epoch [2/20], Step [200/391], Loss: 1.6557\n",
            "Epoch [2/20], Step [300/391], Loss: 1.3479\n",
            "Epoch [3/20], Step [100/391], Loss: 1.3322\n",
            "Epoch [3/20], Step [200/391], Loss: 1.3158\n",
            "Epoch [3/20], Step [300/391], Loss: 1.0677\n",
            "Epoch [4/20], Step [100/391], Loss: 1.2057\n",
            "Epoch [4/20], Step [200/391], Loss: 1.2035\n",
            "Epoch [4/20], Step [300/391], Loss: 1.0225\n",
            "Epoch [5/20], Step [100/391], Loss: 1.1315\n",
            "Epoch [5/20], Step [200/391], Loss: 0.8841\n",
            "Epoch [5/20], Step [300/391], Loss: 1.0673\n",
            "Epoch [6/20], Step [100/391], Loss: 0.7674\n",
            "Epoch [6/20], Step [200/391], Loss: 0.9342\n",
            "Epoch [6/20], Step [300/391], Loss: 0.7556\n",
            "Epoch [7/20], Step [100/391], Loss: 0.9919\n",
            "Epoch [7/20], Step [200/391], Loss: 0.7885\n",
            "Epoch [7/20], Step [300/391], Loss: 0.8058\n",
            "Epoch [8/20], Step [100/391], Loss: 0.9330\n",
            "Epoch [8/20], Step [200/391], Loss: 0.7137\n",
            "Epoch [8/20], Step [300/391], Loss: 0.8047\n",
            "Epoch [9/20], Step [100/391], Loss: 0.7390\n",
            "Epoch [9/20], Step [200/391], Loss: 0.6854\n",
            "Epoch [9/20], Step [300/391], Loss: 0.7398\n",
            "Epoch [10/20], Step [100/391], Loss: 0.5653\n",
            "Epoch [10/20], Step [200/391], Loss: 0.6788\n",
            "Epoch [10/20], Step [300/391], Loss: 0.8845\n",
            "Epoch [11/20], Step [100/391], Loss: 0.7393\n",
            "Epoch [11/20], Step [200/391], Loss: 0.7727\n",
            "Epoch [11/20], Step [300/391], Loss: 0.8616\n",
            "Epoch [12/20], Step [100/391], Loss: 0.6837\n",
            "Epoch [12/20], Step [200/391], Loss: 0.6214\n",
            "Epoch [12/20], Step [300/391], Loss: 0.7636\n",
            "Epoch [13/20], Step [100/391], Loss: 0.7667\n",
            "Epoch [13/20], Step [200/391], Loss: 0.8357\n",
            "Epoch [13/20], Step [300/391], Loss: 0.5339\n",
            "Epoch [14/20], Step [100/391], Loss: 0.5962\n",
            "Epoch [14/20], Step [200/391], Loss: 0.6393\n",
            "Epoch [14/20], Step [300/391], Loss: 0.5944\n",
            "Epoch [15/20], Step [100/391], Loss: 0.5152\n",
            "Epoch [15/20], Step [200/391], Loss: 0.4546\n",
            "Epoch [15/20], Step [300/391], Loss: 0.4263\n",
            "Epoch [16/20], Step [100/391], Loss: 0.5127\n",
            "Epoch [16/20], Step [200/391], Loss: 0.5115\n",
            "Epoch [16/20], Step [300/391], Loss: 0.5177\n",
            "Epoch [17/20], Step [100/391], Loss: 0.5281\n",
            "Epoch [17/20], Step [200/391], Loss: 0.5542\n",
            "Epoch [17/20], Step [300/391], Loss: 0.6127\n",
            "Epoch [18/20], Step [100/391], Loss: 0.6253\n",
            "Epoch [18/20], Step [200/391], Loss: 0.5253\n",
            "Epoch [18/20], Step [300/391], Loss: 0.6404\n",
            "Epoch [19/20], Step [100/391], Loss: 0.4736\n",
            "Epoch [19/20], Step [200/391], Loss: 0.4581\n",
            "Epoch [19/20], Step [300/391], Loss: 0.6244\n",
            "Epoch [20/20], Step [100/391], Loss: 0.4918\n",
            "Epoch [20/20], Step [200/391], Loss: 0.7330\n",
            "Epoch [20/20], Step [300/391], Loss: 0.6470\n"
          ],
          "name": "stdout"
        }
      ]
    },
    {
      "cell_type": "code",
      "metadata": {
        "id": "aY1vNYESyeA2",
        "colab": {
          "base_uri": "https://localhost:8080/",
          "height": 351
        },
        "outputId": "12e5ac86-e161-401c-939d-a5aaef41368b"
      },
      "source": [
        "import matplotlib.pyplot as plt\n",
        "\n",
        "fig = plt.figure()\n",
        "plt.plot(count, loss1, color='blue', label='Adam')\n",
        "plt.plot(count, loss2, color='red', label='SGD')\n",
        "plt.xlabel('Epochs')\n",
        "plt.ylabel('Loss')\n",
        "plt.legend()\n",
        "plt.show()\n",
        "\n",
        "print('Adam Optimizer')\n",
        "Test(model1)\n",
        "\n",
        "print('SGD Optimizer')\n",
        "Test(model2)"
      ],
      "execution_count": 9,
      "outputs": [
        {
          "output_type": "display_data",
          "data": {
            "image/png": "[encoded data removed]",
            "text/plain": [
              "<Figure size 432x288 with 1 Axes>"
            ]
          },
          "metadata": {
            "tags": [],
            "needs_background": "light"
          }
        },
        {
          "output_type": "stream",
          "text": [
            "Adam Optimizer\n",
            "Accuracy of the model = 80.459999\n",
            "SGD Optimizer\n",
            "Accuracy of the model = 73.739998\n"
          ],
          "name": "stdout"
        }
      ]
    }
  ]
}